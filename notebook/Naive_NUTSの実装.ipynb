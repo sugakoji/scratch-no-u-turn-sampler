{
 "cells": [
  {
   "cell_type": "code",
   "execution_count": 31,
   "metadata": {},
   "outputs": [],
   "source": [
    "\n",
    "from scipy import stats\n",
    "\n",
    "import matplotlib.pyplot as plt\n",
    "import numpy as np\n",
    "\n",
    "import numpy.random as rd\n",
    "\n",
    "import pandas as pd \n",
    "\n",
    "from tqdm import tqdm\n",
    "import math"
   ]
  },
  {
   "cell_type": "code",
   "execution_count": 32,
   "metadata": {},
   "outputs": [],
   "source": [
    "_max  =1000"
   ]
  },
  {
   "cell_type": "code",
   "execution_count": null,
   "metadata": {},
   "outputs": [],
   "source": []
  },
  {
   "cell_type": "code",
   "execution_count": 33,
   "metadata": {},
   "outputs": [],
   "source": [
    "def h(x):\n",
    "    global mu\n",
    "    global sigma\n",
    "    \n",
    "    return (x-mu)**2/(2 * sigma)\n",
    "\n",
    "def delta_h(x):\n",
    "    global mu\n",
    "    global sigma\n",
    "    return  x/sigma - mu/sigma"
   ]
  },
  {
   "cell_type": "code",
   "execution_count": 34,
   "metadata": {},
   "outputs": [],
   "source": [
    "L =100\n",
    "def leap_flog_step1(r, eta,x):\n",
    "    return r - 0.5*eta* delta_h(x)\n",
    "\n",
    "def leap_flog_step2(r, x, eta):\n",
    "    return x + eta * r\n",
    "\n",
    "def Leapfrog(x,r, eta):\n",
    "    for _ in range(L):\n",
    "        r = leap_flog_step1(r, eta,x)\n",
    "        x = leap_flog_step2(r, x, eta)\n",
    "        r = leap_flog_step1(r, eta,x)\n",
    "    return x,r"
   ]
  },
  {
   "cell_type": "code",
   "execution_count": 35,
   "metadata": {},
   "outputs": [],
   "source": [
    "def momentum(r):\n",
    "    return 0.5 * r**2"
   ]
  },
  {
   "cell_type": "code",
   "execution_count": 36,
   "metadata": {},
   "outputs": [],
   "source": [
    "def hamiltonian(x,r):\n",
    "    return h(x)+ momentum(r)"
   ]
  },
  {
   "cell_type": "code",
   "execution_count": 37,
   "metadata": {},
   "outputs": [],
   "source": [
    "   \n",
    "def BuildTree(x,r,u,v,j,eta):    \n",
    "    if j == 0:\n",
    "        x,r = Leapfrog(x,r,v*eta)\n",
    "        c = [(x,r)] if u < np.exp(-hamiltonian(x,r)) else [(100,100)]\n",
    "        s = 1 if -hamiltonian(x,r) > np.log(u)-_max else 0\n",
    "        return x,r,x,r,c,s\n",
    "    else:\n",
    "        x_minus,r_minus, x_plus,r_plus,c,s = BuildTree(x,r,u,v,j-1,eta)    \n",
    "        if v == -1:\n",
    "            x_minus,r_minus, _,_,c_dash,s_dash = BuildTree(x_minus,r_minus,u,v,j-1,eta)\n",
    "        elif v == 1:\n",
    "            _,_, x_plus,r_plus,c_dash,s_dash = BuildTree(x_plus,r_plus,u,v,j-1,eta)\n",
    "        else:\n",
    "            print(\"Error\")\n",
    "        s = s *s_dash* (1 if (x_plus-x_minus)*r_minus >= 0 else 0) * (1 if (x_plus-x_minus)*r_plus >= 0 else 0)\n",
    "        c.extend(c_dash)\n",
    "        return x_minus,r_minus,x_plus,r_plus,c,s\n",
    "                \n",
    "                \n",
    "                \n",
    "                "
   ]
  },
  {
   "cell_type": "code",
   "execution_count": 48,
   "metadata": {},
   "outputs": [],
   "source": [
    "\n",
    "# まあいろいろ初期値を設定\n",
    "# 初期値が大きいと（正規分布)へんな感じでハマる可能性がある。\n",
    "\n",
    "\n",
    "\n",
    "mu = 0\n",
    "sigma = 1"
   ]
  },
  {
   "cell_type": "code",
   "execution_count": 49,
   "metadata": {
    "scrolled": true
   },
   "outputs": [],
   "source": [
    "M =4000\n",
    "x_prior = 1\n",
    "eta = 0.01\n",
    "result = []\n",
    "cnt = 0\n",
    "for _ in range(0,M):\n",
    "    p = rd.normal(loc=0,scale=1)\n",
    "    u = rd.uniform(0.0, np.exp(-hamiltonian(x_prior,p)))\n",
    "    x_minus,x_plus = x_prior,x_prior\n",
    "    r_minus,r_plus = p,p\n",
    "    j = 0\n",
    "    c =[(x_prior,p)]\n",
    "    s =1    \n",
    "    while s == 1:\n",
    "        v = rd.choice([-1,1])\n",
    "        if v == -1:\n",
    "            x_minus,r_minus, _,_, c_dash,s_dash = BuildTree(x_minus,r_minus,u,v,j,eta)\n",
    "        elif v == 1:\n",
    "            _,_, x_plus,r_plus,c_dash,s_dash = BuildTree(x_plus,r_plus,u,v,j,eta)\n",
    "        else:\n",
    "            print(\"error\")\n",
    "        if s_dash ==1:\n",
    "            c.extend(c_dash)\n",
    "        else:\n",
    "            cnt +=1\n",
    "        s = s_dash * (1 if (x_plus-x_minus)*r_minus >= 0 else 0) * (1 if (x_plus-x_minus)*r_plus >= 0 else 0)\n",
    "        j = j +1\n",
    "    choice_index = rd.choice(list(range(0, len(c))))\n",
    "    x_prior = c[choice_index][0]\n",
    "    result.append(x_prior)\n",
    "    \n"
   ]
  },
  {
   "cell_type": "code",
   "execution_count": 50,
   "metadata": {},
   "outputs": [
    {
     "data": {
      "text/plain": [
       "0.6355"
      ]
     },
     "execution_count": 50,
     "metadata": {},
     "output_type": "execute_result"
    }
   ],
   "source": [
    "# 採択率\n",
    "1- cnt/len(result)"
   ]
  },
  {
   "cell_type": "code",
   "execution_count": 51,
   "metadata": {},
   "outputs": [
    {
     "data": {
      "text/plain": [
       "(array([ 0.00678437,  0.02913286,  0.10695352,  0.29691575,  0.40187387,\n",
       "         0.34640171,  0.15244868,  0.03990803,  0.01237149,  0.0039908 ]),\n",
       " array([-3.29133613, -2.57540433, -1.85947252, -1.14354072, -0.42760892,\n",
       "         0.28832289,  1.00425469,  1.7201865 ,  2.4361183 ,  3.1520501 ,\n",
       "         3.86798191]),\n",
       " <a list of 10 Patch objects>)"
      ]
     },
     "execution_count": 51,
     "metadata": {},
     "output_type": "execute_result"
    },
    {
     "data": {
      "image/png": "[encoded data removed]",
      "text/plain": [
       "<matplotlib.figure.Figure at 0x1107a0e10>"
      ]
     },
     "metadata": {
      "needs_background": "light"
     },
     "output_type": "display_data"
    }
   ],
   "source": [
    "plt.hist(np.array(result[500:]),normed = True)"
   ]
  },
  {
   "cell_type": "code",
   "execution_count": null,
   "metadata": {},
   "outputs": [],
   "source": []
  },
  {
   "cell_type": "code",
   "execution_count": null,
   "metadata": {},
   "outputs": [],
   "source": []
  },
  {
   "cell_type": "code",
   "execution_count": null,
   "metadata": {},
   "outputs": [],
   "source": []
  }
 ],
 "metadata": {
  "kernelspec": {
   "display_name": "Python 3",
   "language": "python",
   "name": "python3"
  },
  "language_info": {
   "codemirror_mode": {
    "name": "ipython",
    "version": 3
   },
   "file_extension": ".py",
   "mimetype": "text/x-python",
   "name": "python",
   "nbconvert_exporter": "python",
   "pygments_lexer": "ipython3",
   "version": "3.6.8"
  },
  "toc": {
   "colors": {
    "hover_highlight": "#DAA520",
    "navigate_num": "#000000",
    "navigate_text": "#333333",
    "running_highlight": "#FF0000",
    "selected_highlight": "#FFD700",
    "sidebar_border": "#EEEEEE",
    "wrapper_background": "#FFFFFF"
   },
   "moveMenuLeft": true,
   "nav_menu": {
    "height": "11.9792px",
    "width": "251.979px"
   },
   "navigate_menu": true,
   "number_sections": true,
   "sideBar": true,
   "threshold": 4,
   "toc_cell": false,
   "toc_section_display": "block",
   "toc_window_display": false,
   "widenNotebook": false
  }
 },
 "nbformat": 4,
 "nbformat_minor": 2
}
